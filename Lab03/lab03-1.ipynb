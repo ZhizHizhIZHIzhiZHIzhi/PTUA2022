{
 "cells": [
  {
   "cell_type": "code",
   "execution_count": null,
   "id": "b45f5448",
   "metadata": {},
   "outputs": [],
   "source": [
    "Chapter 2\n",
    "Exercise 1\n",
    "    \n",
    "    "
   ]
  },
  {
   "cell_type": "code",
   "execution_count": 3,
   "id": "e9e8afb8",
   "metadata": {},
   "outputs": [
    {
     "ename": "SyntaxError",
     "evalue": "cannot assign to literal (Temp/ipykernel_61812/3090476294.py, line 1)",
     "output_type": "error",
     "traceback": [
      "\u001b[1;36m  File \u001b[1;32m\"C:\\Users\\gao_z\\AppData\\Local\\Temp/ipykernel_61812/3090476294.py\"\u001b[1;36m, line \u001b[1;32m1\u001b[0m\n\u001b[1;33m    42 = n\u001b[0m\n\u001b[1;37m    ^\u001b[0m\n\u001b[1;31mSyntaxError\u001b[0m\u001b[1;31m:\u001b[0m cannot assign to literal\n"
     ]
    }
   ],
   "source": [
    "42 = n"
   ]
  },
  {
   "cell_type": "code",
   "execution_count": 5,
   "id": "89bf2340",
   "metadata": {},
   "outputs": [],
   "source": [
    "x = y = 1"
   ]
  },
  {
   "cell_type": "code",
   "execution_count": 6,
   "id": "dceb2e1a",
   "metadata": {},
   "outputs": [],
   "source": [
    "x = y = 1;"
   ]
  },
  {
   "cell_type": "code",
   "execution_count": 7,
   "id": "64be8d41",
   "metadata": {},
   "outputs": [],
   "source": [
    "x = y = 1."
   ]
  },
  {
   "cell_type": "code",
   "execution_count": 8,
   "id": "e6c72bc1",
   "metadata": {},
   "outputs": [
    {
     "ename": "NameError",
     "evalue": "name 'xy' is not defined",
     "output_type": "error",
     "traceback": [
      "\u001b[1;31m---------------------------------------------------------------------------\u001b[0m",
      "\u001b[1;31mNameError\u001b[0m                                 Traceback (most recent call last)",
      "\u001b[1;32m~\\AppData\\Local\\Temp/ipykernel_61812/3424147140.py\u001b[0m in \u001b[0;36m<module>\u001b[1;34m\u001b[0m\n\u001b[1;32m----> 1\u001b[1;33m \u001b[0mxy\u001b[0m\u001b[1;33m\u001b[0m\u001b[1;33m\u001b[0m\u001b[0m\n\u001b[0m",
      "\u001b[1;31mNameError\u001b[0m: name 'xy' is not defined"
     ]
    }
   ],
   "source": [
    "xy"
   ]
  },
  {
   "cell_type": "code",
   "execution_count": null,
   "id": "b9967ecc",
   "metadata": {},
   "outputs": [],
   "source": [
    "Exercise 2"
   ]
  },
  {
   "cell_type": "code",
   "execution_count": 10,
   "id": "911a58c8",
   "metadata": {
    "scrolled": true
   },
   "outputs": [
    {
     "name": "stdout",
     "output_type": "stream",
     "text": [
      "523.5987755982989\n"
     ]
    }
   ],
   "source": [
    "import math\n",
    "radius = 5\n",
    "volume_sphere = 4 / 3 * math.pi * 5**3 \n",
    "print(volume_sphere)"
   ]
  },
  {
   "cell_type": "code",
   "execution_count": 47,
   "id": "97267a5d",
   "metadata": {},
   "outputs": [
    {
     "name": "stdout",
     "output_type": "stream",
     "text": [
      "945.45\n"
     ]
    }
   ],
   "source": [
    "wholesale = 24.95 * 0.6 * 60 + 3 + 0.75 * 59\n",
    "print(round(wholesale,10))"
   ]
  },
  {
   "cell_type": "code",
   "execution_count": 20,
   "id": "503c6682",
   "metadata": {},
   "outputs": [
    {
     "name": "stdout",
     "output_type": "stream",
     "text": [
      "0 38 6\n"
     ]
    }
   ],
   "source": [
    "run_time = (8 * 60 + 15) * 2 + (7 * 60 + 12) * 3 \n",
    "run_time_hours = run_time // 3600\n",
    "run_time_minutes = run_time % 3600 // 60\n",
    "run_time_seconds = run_time % 60\n",
    "print(run_time_hours, run_time_minutes, run_time_seconds)"
   ]
  },
  {
   "cell_type": "code",
   "execution_count": null,
   "id": "d8d13b34",
   "metadata": {},
   "outputs": [],
   "source": [
    "Will get home for breakfast at 7:30:6 am"
   ]
  },
  {
   "cell_type": "code",
   "execution_count": null,
   "id": "b822fb30",
   "metadata": {},
   "outputs": [],
   "source": [
    "Chapter 8\n",
    "Exercise 2"
   ]
  },
  {
   "cell_type": "code",
   "execution_count": 25,
   "id": "af55402f",
   "metadata": {},
   "outputs": [
    {
     "data": {
      "text/plain": [
       "3"
      ]
     },
     "execution_count": 25,
     "metadata": {},
     "output_type": "execute_result"
    }
   ],
   "source": [
    "fruit = 'banana'\n",
    "fruit.count('a', 0, )"
   ]
  },
  {
   "cell_type": "code",
   "execution_count": null,
   "id": "97365f10",
   "metadata": {},
   "outputs": [],
   "source": [
    "Exercise 3"
   ]
  },
  {
   "cell_type": "code",
   "execution_count": 33,
   "id": "cce42404",
   "metadata": {},
   "outputs": [
    {
     "data": {
      "text/plain": [
       "False"
      ]
     },
     "execution_count": 33,
     "metadata": {},
     "output_type": "execute_result"
    }
   ],
   "source": [
    "fruit = 'banana'\n",
    "def is_palindrome(word):\n",
    "    if word[::-1] == word:\n",
    "        return True\n",
    "    else:\n",
    "        return False\n",
    "\n",
    "is_palindrome(fruit)"
   ]
  },
  {
   "cell_type": "code",
   "execution_count": null,
   "id": "7e0a3bf6",
   "metadata": {},
   "outputs": [],
   "source": [
    "Exercise 4"
   ]
  },
  {
   "cell_type": "code",
   "execution_count": 34,
   "id": "fca68f73",
   "metadata": {},
   "outputs": [
    {
     "ename": "SyntaxError",
     "evalue": "invalid syntax (Temp/ipykernel_61812/1148764346.py, line 1)",
     "output_type": "error",
     "traceback": [
      "\u001b[1;36m  File \u001b[1;32m\"C:\\Users\\gao_z\\AppData\\Local\\Temp/ipykernel_61812/1148764346.py\"\u001b[1;36m, line \u001b[1;32m1\u001b[0m\n\u001b[1;33m    any_lowercase1: to check if there are any lowercase letters;\u001b[0m\n\u001b[1;37m                       ^\u001b[0m\n\u001b[1;31mSyntaxError\u001b[0m\u001b[1;31m:\u001b[0m invalid syntax\n"
     ]
    }
   ],
   "source": [
    "any_lowercase1: if the string contains any lowercase letters, return True, otherwise return Flase\n",
    "any_lowercase2: always return True\n",
    "any_lowercase3: if the last letter of the string is lowercase letter, return True, otherwise return Flase\n",
    "any_lowercase4: if there is any lowercase letter in the string, the 'flag' would become True\n",
    "any_lowercase5: if there is any highercase letter in the string, it would return False"
   ]
  },
  {
   "cell_type": "code",
   "execution_count": null,
   "id": "a8d3b915",
   "metadata": {},
   "outputs": [],
   "source": [
    "Exercise 5"
   ]
  },
  {
   "cell_type": "code",
   "execution_count": null,
   "id": "66f6d085",
   "metadata": {},
   "outputs": [],
   "source": [
    "def rotate_word(s, r):\n",
    "    i = 0\n",
    "    s_list = list(s)\n",
    "    while i < len(s):\n",
    "        n = (ord(s[i]) + r)\n",
    "        s_list[i] =(chr(n))\n",
    "        i += 1\n",
    "    return \"\".join(s_list)\n",
    "s = \"add\"\n",
    "print(rotate_word(s, 13))"
   ]
  },
  {
   "cell_type": "code",
   "execution_count": null,
   "id": "da0567ce",
   "metadata": {},
   "outputs": [],
   "source": []
  }
 ],
 "metadata": {
  "kernelspec": {
   "display_name": "Python 3 (ipykernel)",
   "language": "python",
   "name": "python3"
  },
  "language_info": {
   "codemirror_mode": {
    "name": "ipython",
    "version": 3
   },
   "file_extension": ".py",
   "mimetype": "text/x-python",
   "name": "python",
   "nbconvert_exporter": "python",
   "pygments_lexer": "ipython3",
   "version": "3.9.7"
  }
 },
 "nbformat": 4,
 "nbformat_minor": 5
}
