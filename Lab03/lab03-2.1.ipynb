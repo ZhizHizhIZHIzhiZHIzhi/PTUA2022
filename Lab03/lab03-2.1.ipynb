{
 "cells": [
  {
   "cell_type": "code",
   "execution_count": 5,
   "id": "e442ad9a",
   "metadata": {},
   "outputs": [
    {
     "name": "stdout",
     "output_type": "stream",
     "text": [
      "0.0\n",
      "2.0\n",
      "2.6666666666666665\n",
      "2.0\n",
      "2.4\n",
      "draw limit was exceeded, the percentage difference between the current estimate of Pi and the true value is: 0.23605627315890237\n"
     ]
    }
   ],
   "source": [
    "import random\n",
    "import math\n",
    "import matplotlib.pyplot as plt\n",
    "\n",
    "pi = math.pi\n",
    "\n",
    "def simulate_pi(p, s):\n",
    "    n = 0 # number of points falling in the unit circle\n",
    "    d = 0 # number of points falling in the unit square\n",
    "    simulating = True # use as a sentinel\n",
    "    while simulating:\n",
    "        x = random.random()\n",
    "        y = random.random()\n",
    "        if x**2 + y**2 <= 1.0:\n",
    "            n += 1\n",
    "        d += 1\n",
    "        ratio = 4 * n * 1./d\n",
    "        print(ratio)\n",
    "        if d == s:\n",
    "            print(\"draw limit was exceeded, the percentage difference between the current estimate of Pi and the true value is:\", abs(ratio-pi) / pi)\n",
    "            break\n",
    "        if abs(ratio-pi) / pi <= p:\n",
    "            print(\"Draws needed: \", d)\n",
    "            break\n",
    "\n",
    "simulate_pi(0.1, 5)"
   ]
  },
  {
   "cell_type": "code",
   "execution_count": null,
   "id": "a5bdd97a",
   "metadata": {},
   "outputs": [],
   "source": []
  }
 ],
 "metadata": {
  "kernelspec": {
   "display_name": "Python 3 (ipykernel)",
   "language": "python",
   "name": "python3"
  },
  "language_info": {
   "codemirror_mode": {
    "name": "ipython",
    "version": 3
   },
   "file_extension": ".py",
   "mimetype": "text/x-python",
   "name": "python",
   "nbconvert_exporter": "python",
   "pygments_lexer": "ipython3",
   "version": "3.9.7"
  }
 },
 "nbformat": 4,
 "nbformat_minor": 5
}
