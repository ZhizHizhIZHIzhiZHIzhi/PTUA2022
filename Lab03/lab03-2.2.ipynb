{
 "cells": [
  {
   "cell_type": "code",
   "execution_count": 11,
   "id": "8adf12ca",
   "metadata": {},
   "outputs": [
    {
     "name": "stdout",
     "output_type": "stream",
     "text": [
      "for  0.01  average number of draws required from the 10 runs is  56.4  the standard deviation of the number of draws required from the 10 runs is  [6177.959999999999, 1797.76, 1474.56, 416.15999999999997, 2246.7599999999998, 1797.76, 2246.7599999999998, 595.3599999999999, 416.15999999999997, 41861.159999999996]\n",
      "for  0.001  average number of draws required from the 10 runs is  2908.9  the standard deviation of the number of draws required from the 10 runs is  [8139038.41, 8139038.41, 7414184.41, 8380446.010000001, 8380446.010000001, 7772386.41, 656697001.2099999, 8380446.010000001, 8008334.010000001, 8380446.010000001]\n",
      "for  0.0001  average number of draws required from the 10 runs is  5639.8  the standard deviation of the number of draws required from the 10 runs is  [20700680.040000003, 19774030.240000002, 29385072.64, 1510659235.8399997, 6748564.840000001, 29385072.64, 3724128.0400000005, 22210483.840000004, 25906064.040000003, 22078721.44]\n",
      "for  1e-05  average number of draws required from the 10 runs is  78999.6  the standard deviation of the number of draws required from the 10 runs is  [5415429228.160001, 4406384056.360001, 6026354796.160001, 799283366.5600003, 400003627730.56006, 6133176573.160001, 5916163355.560001, 6032877446.560001, 5748915026.56, 6062584478.760001]\n"
     ]
    }
   ],
   "source": [
    "import random\n",
    "import math\n",
    "import matplotlib.pyplot as plt\n",
    "\n",
    "pi = math.pi\n",
    "\n",
    "def simulate_pi(p):\n",
    "    n = 0 # number of points falling in the unit circle\n",
    "    d = 0 # number of points falling in the unit square\n",
    "    simulating = True # use as a sentinel\n",
    "    while simulating:\n",
    "        x = random.random()\n",
    "        y = random.random()\n",
    "        if x**2 + y**2 <= 1.0:\n",
    "            n += 1\n",
    "        d += 1\n",
    "        ratio = 4 * n * 1./d\n",
    "        if abs(ratio-pi) / pi <= p:\n",
    "            return d\n",
    "            break\n",
    "            \n",
    "def multiple_simulate_pi(s):\n",
    "    i = 0\n",
    "    while i < len(s):\n",
    "        m = 0\n",
    "        ds = []\n",
    "        while m < 10:\n",
    "            ds.append(simulate_pi(s[i]))\n",
    "            m += 1\n",
    "        mean = sum(ds) / 10\n",
    "        deviations = [(x - mean) ** 2 for x in ds]\n",
    "        print(\"for \",s[i],\" average number of draws required from the 10 runs is \", mean, \" the standard deviation of the number of draws required from the 10 runs is \", deviations)\n",
    "        i += 1\n",
    "    \n",
    "ps = [0.01, 0.001, 0.0001, 0.00001]\n",
    "multiple_simulate_pi(ps)"
   ]
  },
  {
   "cell_type": "code",
   "execution_count": null,
   "id": "d15f5a80",
   "metadata": {},
   "outputs": [],
   "source": []
  }
 ],
 "metadata": {
  "kernelspec": {
   "display_name": "Python 3 (ipykernel)",
   "language": "python",
   "name": "python3"
  },
  "language_info": {
   "codemirror_mode": {
    "name": "ipython",
    "version": 3
   },
   "file_extension": ".py",
   "mimetype": "text/x-python",
   "name": "python",
   "nbconvert_exporter": "python",
   "pygments_lexer": "ipython3",
   "version": "3.9.7"
  }
 },
 "nbformat": 4,
 "nbformat_minor": 5
}
